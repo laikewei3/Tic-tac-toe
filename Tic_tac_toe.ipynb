{
  "nbformat": 4,
  "nbformat_minor": 0,
  "metadata": {
    "colab": {
      "provenance": [],
      "authorship_tag": "ABX9TyOInUuAKnKAuKDKuwHSIZI2",
      "include_colab_link": true
    },
    "kernelspec": {
      "name": "python3",
      "display_name": "Python 3"
    },
    "language_info": {
      "name": "python"
    }
  },
  "cells": [
    {
      "cell_type": "markdown",
      "metadata": {
        "id": "view-in-github",
        "colab_type": "text"
      },
      "source": [
        "<a href=\"https://colab.research.google.com/github/laikewei3/Tic-tac-toe/blob/main/Tic_tac_toe.ipynb\" target=\"_parent\"><img src=\"https://colab.research.google.com/assets/colab-badge.svg\" alt=\"Open In Colab\"/></a>"
      ]
    },
    {
      "cell_type": "code",
      "execution_count": null,
      "metadata": {
        "id": "QMnjWFzkOct3"
      },
      "outputs": [],
      "source": [
        "# 1 = O, -1 = X\n",
        "def ConstBoard(board):\n",
        "  print(\"Current State of the Board: \\n\\n\")\n",
        "  for i in range(0,9):\n",
        "    if i>0 and (i%3)==0:\n",
        "      print(\"\\n\");\n",
        "    if(board[i]==0):\n",
        "      print(\"_ \",end=\" \")\n",
        "    if(board[i]==-1):\n",
        "      print(\"X \",end=\" \")\n",
        "    if(board[i]==1):\n",
        "      print(\"O \",end=\" \")\n",
        "  print(\"\\n\\n\")"
      ]
    },
    {
      "cell_type": "code",
      "source": [
        "def User1Turn(board):\n",
        "  pos = int(input(\"Enter X's position from [1-9]: \"))\n",
        "  if(board[pos-1]!=0):\n",
        "    print(\"Wrong Move\")\n",
        "    exit(0)\n",
        "  board[pos-1]=-1"
      ],
      "metadata": {
        "id": "WBzTJUXSWmX8"
      },
      "execution_count": null,
      "outputs": []
    },
    {
      "cell_type": "code",
      "source": [
        "def User2Turn(board):\n",
        "  pos = int(input(\"Enter O's position from [1-9]: \"))\n",
        "  if(board[pos-1]!=0):\n",
        "    print(\"Wrong Move\")\n",
        "    exit(0)\n",
        "  board[pos-1]=1"
      ],
      "metadata": {
        "id": "l2lMSFtHYKZ1"
      },
      "execution_count": null,
      "outputs": []
    },
    {
      "cell_type": "code",
      "source": [
        "def analyzeBoard(board):\n",
        "  cb = [[0,1,2],[3,4,5],[6,7,8],[0,3,6],[1,4,7],[2,5,8],[0,4,8],[2,4,6]]\n",
        "\n",
        "  for i in range(0,8):\n",
        "    if (board[cb[i][0]] != 0 and\n",
        "        board[cb[i][0]] == board[cb[i][1]] and\n",
        "        board[cb[i][0]] == board[cb[i][2]]):\n",
        "      return board[cb[i][0]];\n",
        "  return 0"
      ],
      "metadata": {
        "id": "pDJ_gcJkZMpG"
      },
      "execution_count": null,
      "outputs": []
    },
    {
      "cell_type": "code",
      "source": [
        "def minmax(board, player):\n",
        "  x = analyzeBoard(board)\n",
        "  if x != 0:\n",
        "    return (x*player)\n",
        "  pos = -1\n",
        "  value=-2\n",
        "  for i in range(0,9):\n",
        "    if board[i] == 0:\n",
        "      board[i] = player\n",
        "      score =-minmax(board, player*-1)\n",
        "      board[i] = 0\n",
        "      if score>value:\n",
        "        value=score\n",
        "        pos=i\n",
        "  if pos == -1:\n",
        "    return 0\n",
        "  return value"
      ],
      "metadata": {
        "id": "MVXX6PyinAXr"
      },
      "execution_count": null,
      "outputs": []
    },
    {
      "cell_type": "code",
      "source": [
        "def CompTurn(board):\n",
        "  pos = -1\n",
        "  value=-2\n",
        "  for i in range(0,9):\n",
        "    if board[i] == 0:\n",
        "      board[i] = 1\n",
        "      score =-minmax(board, -1)\n",
        "      board[i] = 0\n",
        "      if score>value:\n",
        "        value=score\n",
        "        pos=i\n",
        "  board[pos]=1;"
      ],
      "metadata": {
        "id": "yr6B7ZAAeTFr"
      },
      "execution_count": null,
      "outputs": []
    },
    {
      "cell_type": "code",
      "source": [
        "def main():\n",
        "  choice = int(input(\"Enter 1 for single player, 2 for multiplayer:\"))\n",
        "  board = [0,0,0,0,0,0,0,0,0]\n",
        "  if choice == 1:\n",
        "    print(\"Computer: O vs You: X\")\n",
        "    player = int(input(\"Enter to play 1(st) or 2(nd)\"))\n",
        "    for i in range(0,9):\n",
        "      if(analyzeBoard(board)!=0):\n",
        "        break\n",
        "      if((i+player)%2==0):\n",
        "        CompTurn(board)\n",
        "      else:\n",
        "        ConstBoard(board)\n",
        "        User1Turn(board)\n",
        "  else:\n",
        "    print(\"User1: X vs User2: O\")\n",
        "    player = int(input(\"Enter to play 1(st) or 2(nd)\"))\n",
        "    for i in range(0,9):\n",
        "      if(analyzeBoard(board)!=0):\n",
        "        break\n",
        "      if((i+player)%2==0):\n",
        "        ConstBoard(board)\n",
        "        User1Turn(board)\n",
        "      else:\n",
        "        ConstBoard(board)\n",
        "        User2Turn(board)\n",
        "  x=analyzeBoard(board)\n",
        "  if(x==0):\n",
        "    ConstBoard(board)\n",
        "    print(\"Draw!!\")\n",
        "  elif(x==-1):\n",
        "    ConstBoard(board)\n",
        "    print(\"Player X Wins!!! O Looses\")\n",
        "  elif(x==1):\n",
        "    ConstBoard(board)\n",
        "    print(\"Player O Wins!!! X Looses\")"
      ],
      "metadata": {
        "id": "UNCyNfwXcBQi"
      },
      "execution_count": null,
      "outputs": []
    },
    {
      "cell_type": "code",
      "source": [
        "\n",
        "if __name__ == \"__main__\":\n",
        "  main()"
      ],
      "metadata": {
        "id": "Lo6rxXr3eW2K",
        "colab": {
          "base_uri": "https://localhost:8080/"
        },
        "outputId": "9894cc29-23e4-4c95-de3f-b29fa28073ef"
      },
      "execution_count": null,
      "outputs": [
        {
          "output_type": "stream",
          "name": "stdout",
          "text": [
            "Enter 1 for single player, 2 for multiplayer:1\n",
            "Computer: O vs You: X\n",
            "Enter to play 1(st) or 2(nd)2\n",
            "Current State of the Board: \n",
            "\n",
            "\n",
            "O  _  _  \n",
            "\n",
            "_  _  _  \n",
            "\n",
            "_  _  _  \n",
            "\n",
            "\n",
            "Enter X's position from [1-9]: 2\n",
            "Current State of the Board: \n",
            "\n",
            "\n",
            "O  X  _  \n",
            "\n",
            "O  _  _  \n",
            "\n",
            "_  _  _  \n",
            "\n",
            "\n",
            "Enter X's position from [1-9]: 7\n",
            "Current State of the Board: \n",
            "\n",
            "\n",
            "O  X  _  \n",
            "\n",
            "O  O  _  \n",
            "\n",
            "X  _  _  \n",
            "\n",
            "\n",
            "Enter X's position from [1-9]: 6\n",
            "Current State of the Board: \n",
            "\n",
            "\n",
            "O  X  _  \n",
            "\n",
            "O  O  X  \n",
            "\n",
            "X  _  O  \n",
            "\n",
            "\n",
            "Player O Wins!!! X Looses\n"
          ]
        }
      ]
    }
  ]
}